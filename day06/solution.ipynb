{
 "cells": [
  {
   "cell_type": "code",
   "execution_count": null,
   "metadata": {},
   "outputs": [],
   "source": [
    "import numpy as np"
   ]
  },
  {
   "cell_type": "code",
   "execution_count": 2,
   "metadata": {},
   "outputs": [],
   "source": [
    "times=[46,85,75,82]\n",
    "distances = [208, 1412, 1257, 1410]"
   ]
  },
  {
   "cell_type": "code",
   "execution_count": 3,
   "metadata": {},
   "outputs": [
    {
     "name": "stdout",
     "output_type": "stream",
     "text": [
      "[[240, 273, 304, 333, 360, 385, 408, 429, 448, 465, 480, 493, 504, 513, 520, 525, 528, 529, 528, 525, 520, 513, 504, 493, 480, 465, 448, 429, 408, 385, 360, 333, 304, 273, 240], [1426, 1464, 1500, 1534, 1566, 1596, 1624, 1650, 1674, 1696, 1716, 1734, 1750, 1764, 1776, 1786, 1794, 1800, 1804, 1806, 1806, 1804, 1800, 1794, 1786, 1776, 1764, 1750, 1734, 1716, 1696, 1674, 1650, 1624, 1596, 1566, 1534, 1500, 1464, 1426], [1274, 1296, 1316, 1334, 1350, 1364, 1376, 1386, 1394, 1400, 1404, 1406, 1406, 1404, 1400, 1394, 1386, 1376, 1364, 1350, 1334, 1316, 1296, 1274], [1425, 1456, 1485, 1512, 1537, 1560, 1581, 1600, 1617, 1632, 1645, 1656, 1665, 1672, 1677, 1680, 1681, 1680, 1677, 1672, 1665, 1656, 1645, 1632, 1617, 1600, 1581, 1560, 1537, 1512, 1485, 1456, 1425]]\n",
      "1108800\n"
     ]
    }
   ],
   "source": [
    "# Silver\n",
    "\n",
    "outcomes = []\n",
    "for time in times:\n",
    "\n",
    "    outcomes_for_time = []\n",
    "    for t in range(time + 1):\n",
    "        outcome = t * (time - t)\n",
    "        outcomes_for_time.append(outcome)\n",
    "\n",
    "    outcomes.append(outcomes_for_time)\n",
    "\n",
    "\n",
    "wins = []\n",
    "for game, distance in zip(outcomes, distances):\n",
    "    wins_for_game = []\n",
    "    for outcome in game:\n",
    "        if outcome > distance:\n",
    "            wins_for_game.append(outcome)\n",
    "    wins.append(wins_for_game)\n",
    "\n",
    "print(wins)\n",
    "\n",
    "bag = []\n",
    "for win in wins:\n",
    "    bag.append(len(win))\n",
    "\n",
    "print(np.prod(bag))\n"
   ]
  },
  {
   "cell_type": "code",
   "execution_count": 10,
   "metadata": {},
   "outputs": [],
   "source": [
    "time = 46857582\n",
    "distance = 208141212571410"
   ]
  },
  {
   "cell_type": "code",
   "execution_count": 11,
   "metadata": {},
   "outputs": [
    {
     "name": "stdout",
     "output_type": "stream",
     "text": [
      "36919753\n"
     ]
    }
   ],
   "source": [
    "times = range(0, time + 1)\n",
    "\n",
    "def f(t):\n",
    "    return t * (time - t)\n",
    "\n",
    "def find_first_win(range1):\n",
    "    for i, t in enumerate(range1):\n",
    "        if f(t) > distance:\n",
    "            return i\n",
    "        \n",
    "min = find_first_win(times)\n",
    "max = time - find_first_win(reversed(times))\n",
    "\n",
    "print(max - min + 1)"
   ]
  }
 ],
 "metadata": {
  "kernelspec": {
   "display_name": "Python 3",
   "language": "python",
   "name": "python3"
  },
  "language_info": {
   "codemirror_mode": {
    "name": "ipython",
    "version": 3
   },
   "file_extension": ".py",
   "mimetype": "text/x-python",
   "name": "python",
   "nbconvert_exporter": "python",
   "pygments_lexer": "ipython3",
   "version": "3.10.13"
  }
 },
 "nbformat": 4,
 "nbformat_minor": 2
}
