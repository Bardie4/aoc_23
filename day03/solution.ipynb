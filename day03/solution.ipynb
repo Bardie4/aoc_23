{
 "cells": [
  {
   "cell_type": "code",
   "execution_count": 1,
   "metadata": {},
   "outputs": [
    {
     "name": "stdout",
     "output_type": "stream",
     "text": [
      "556367\n"
     ]
    }
   ],
   "source": [
    "# Silver\n",
    "with open('mission.txt') as f:\n",
    "    lines = f.read().splitlines()\n",
    "\n",
    "dirs = [(-1, +1), (0, +1), (+1, +1),\n",
    "        (-1,  0),          (+1,  0),\n",
    "        (-1, -1), (0, -1), (+1, -1)]\n",
    "\n",
    "def has_adjacent_symbol(x, y):\n",
    "    for dx, dy in dirs:\n",
    "        try:\n",
    "            cursor = lines[y + dy][x + dx]\n",
    "            if not cursor.isnumeric() and not cursor == \".\":\n",
    "                return True\n",
    "        except IndexError:\n",
    "            continue\n",
    "    return False\n",
    "\n",
    "bag = []\n",
    "for y, line in enumerate(lines):\n",
    "    cursor = \"\"\n",
    "    adj_symbol = False\n",
    "    for x, char in enumerate(line):\n",
    "        if char.isnumeric():\n",
    "            cursor += char\n",
    "\n",
    "            if adj_symbol or has_adjacent_symbol(x, y):\n",
    "                adj_symbol = True\n",
    "            \n",
    "            last_char = x == len(line) - 1 or not line[x + 1].isnumeric()\n",
    "            if last_char and adj_symbol:\n",
    "                bag.append(int(cursor))\n",
    "                cursor = \"\"\n",
    "                adj_symbol = False\n",
    "        else:\n",
    "            cursor = \"\"\n",
    "            adj_symbol = False\n",
    "\n",
    "        \n",
    "print(sum(bag))"
   ]
  },
  {
   "cell_type": "code",
   "execution_count": 1,
   "metadata": {},
   "outputs": [
    {
     "name": "stdout",
     "output_type": "stream",
     "text": [
      "88373022\n"
     ]
    }
   ],
   "source": [
    "# Gold\n",
    "with open('mission.txt') as f:\n",
    "    lines = f.read().splitlines()\n",
    "\n",
    "dirs = [(-1, +1), (0, +1), (+1, +1),\n",
    "        (-1,  0),          (+1,  0),\n",
    "        (-1, -1), (0, -1), (+1, -1)]\n",
    "\n",
    "def get_number_under_cursor(x, y, char):\n",
    "    char = str(char)\n",
    "    \n",
    "    # Move to the left until we hit the edge or not a number\n",
    "    while x > 0 and lines[y][x - 1].isnumeric():\n",
    "        x -= 1\n",
    "\n",
    "    # Gather the number under the cursor\n",
    "    number = \"\"\n",
    "    while x < len(lines[y]) and lines[y][x].isnumeric():\n",
    "        number += lines[y][x]\n",
    "        x += 1\n",
    "        \n",
    "    return int(number)\n",
    "\n",
    "\n",
    "def get_two_adjacent_numbers(x, y):\n",
    "    res = []\n",
    "    for dx, dy in dirs:\n",
    "        try:\n",
    "            cursor = lines[y + dy][x + dx]\n",
    "            if cursor.isnumeric():\n",
    "                res.append(get_number_under_cursor(x + dx, y + dy, cursor))\n",
    "        except IndexError:\n",
    "            continue\n",
    "\n",
    "    res = set(res)\n",
    "\n",
    "    if len(res) == 2:\n",
    "        return res\n",
    "    else:\n",
    "        return set()\n",
    "\n",
    "\n",
    "bag = []\n",
    "for y, line in enumerate(lines):\n",
    "    for x, char in enumerate(line):\n",
    "        if char == \"*\":\n",
    "            values = get_two_adjacent_numbers(x, y)\n",
    "            if len(values) == 2:\n",
    "                values = list(values)\n",
    "                bag.append(values[0] * values[1])\n",
    "\n",
    "\n",
    "print(sum(bag))"
   ]
  }
 ],
 "metadata": {
  "kernelspec": {
   "display_name": "Python 3",
   "language": "python",
   "name": "python3"
  },
  "language_info": {
   "codemirror_mode": {
    "name": "ipython",
    "version": 3
   },
   "file_extension": ".py",
   "mimetype": "text/x-python",
   "name": "python",
   "nbconvert_exporter": "python",
   "pygments_lexer": "ipython3",
   "version": "3.10.13"
  }
 },
 "nbformat": 4,
 "nbformat_minor": 2
}
