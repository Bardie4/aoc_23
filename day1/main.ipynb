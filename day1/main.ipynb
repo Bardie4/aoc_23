{
 "cells": [
  {
   "cell_type": "code",
   "execution_count": 2,
   "metadata": {},
   "outputs": [],
   "source": [
    "import re"
   ]
  },
  {
   "cell_type": "code",
   "execution_count": 59,
   "metadata": {},
   "outputs": [],
   "source": [
    "# Read file as lines, remove newlines\n",
    "with open('mission.txt') as file:\n",
    "    file = file.read().splitlines()\n"
   ]
  },
  {
   "cell_type": "code",
   "execution_count": 60,
   "metadata": {},
   "outputs": [
    {
     "name": "stdout",
     "output_type": "stream",
     "text": [
      "57346\n"
     ]
    }
   ],
   "source": [
    "# Silver\n",
    "# Remove all characters that are not 0-9\n",
    "bag = []\n",
    "for line in file:\n",
    "    line = re.sub(r'\\D', '', line)\n",
    "    bag.append(str(line)[0] + str(line)[-1])\n",
    "\n",
    "for index, item in enumerate(bag):\n",
    "    bag[index] = int(item)\n",
    "\n",
    "print(sum(bag))"
   ]
  },
  {
   "cell_type": "code",
   "execution_count": 61,
   "metadata": {},
   "outputs": [
    {
     "data": {
      "text/plain": [
       "57345"
      ]
     },
     "execution_count": 61,
     "metadata": {},
     "output_type": "execute_result"
    }
   ],
   "source": [
    "# Gold\n",
    "num_str = ['###', 'one', 'two', 'three', 'four', 'five', 'six', 'seven', 'eight', 'nine']\n",
    "\n",
    "# Sliding window\n",
    "def sliding_window(array, window_size):\n",
    "    for i in range(len(array) - window_size + 1):\n",
    "        yield array[i:i + window_size]\n",
    "\n",
    "def find_first(line, reverse = False):\n",
    "    window_size = 5\n",
    "    if len(line) < window_size:\n",
    "        window_size = len(line)\n",
    "\n",
    "    for window in list(sliding_window(line, window_size)):\n",
    "\n",
    "        if reverse:\n",
    "            window = window[::-1]\n",
    "        # Check for integer value in window\n",
    "        digit = re.search(r'\\d', window if not reverse else window[::-1])\n",
    "        digit_str = re.search(r'one|two|three|four|five|six|seven|eight|nine', window)\n",
    "\n",
    "        if digit:\n",
    "            digit_index = window.index(digit.group())\n",
    "\n",
    "        if digit_str:\n",
    "            digit_str_index = window.index(digit_str.group())\n",
    "\n",
    "        # Add the integer value that has the lowest index\n",
    "        if digit and digit_str:\n",
    "            if not reverse:\n",
    "                if digit_index < digit_str_index:\n",
    "                    return digit.group()\n",
    "                else:\n",
    "                    return num_str.index(digit_str.group())\n",
    "            else:\n",
    "                if digit_index > digit_str_index:\n",
    "                    return digit.group()\n",
    "                else:\n",
    "                    return num_str.index(digit_str.group())\n",
    "        elif digit:\n",
    "            return digit.group()\n",
    "        elif digit_str:\n",
    "            return num_str.index(digit_str.group())\n",
    "\n",
    "bag = []\n",
    "for line in file:\n",
    "    first = find_first(line)\n",
    "    last = find_first(line[::-1], reverse=True)\n",
    "    res = int(str(first) + str(last))\n",
    "    bag.append(res)\n",
    "\n",
    "sum(bag)"
   ]
  }
 ],
 "metadata": {
  "kernelspec": {
   "display_name": "Python 3",
   "language": "python",
   "name": "python3"
  },
  "language_info": {
   "codemirror_mode": {
    "name": "ipython",
    "version": 3
   },
   "file_extension": ".py",
   "mimetype": "text/x-python",
   "name": "python",
   "nbconvert_exporter": "python",
   "pygments_lexer": "ipython3",
   "version": "3.10.13"
  }
 },
 "nbformat": 4,
 "nbformat_minor": 2
}
