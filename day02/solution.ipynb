{
 "cells": [
  {
   "cell_type": "code",
   "execution_count": 49,
   "metadata": {},
   "outputs": [],
   "source": [
    "from dataclasses import dataclass\n",
    "import re\n",
    "\n",
    "\n",
    "@dataclass\n",
    "class Throw:\n",
    "    red: int\n",
    "    green: int\n",
    "    blue: int\n",
    "\n",
    "    def __init__(self, throw):\n",
    "        try:\n",
    "            self.red = int(re.search(r\"(\\d+)red\", throw).group(1))\n",
    "        except:\n",
    "            self.red = 0\n",
    "\n",
    "        try:\n",
    "            self.green = int(re.search(r\"(\\d+)green\", throw).group(1))\n",
    "        except:\n",
    "            self.green = 0\n",
    "\n",
    "        try:\n",
    "            self.blue = int(re.search(r\"(\\d+)blue\", throw).group(1))\n",
    "        except:\n",
    "            self.blue = 0\n",
    "\n",
    "@dataclass\n",
    "class Game:\n",
    "    throws: list[Throw]\n",
    "\n",
    "\n",
    "def parse(input: str) -> list[Game]:\n",
    "    # Read input, remove \\n, remove spaces\n",
    "    with open(input, 'r') as f:\n",
    "        lines = f.read().splitlines()\n",
    "        lines = [line.split(\":\")[1].replace(\" \", \"\").split(\";\") for line in lines]\n",
    "\n",
    "    games: list[Game] = []\n",
    "    for line in lines:\n",
    "        game = Game([])\n",
    "        for throw in line:\n",
    "            game.throws.append(Throw(throw))\n",
    "        games.append(game)\n",
    "\n",
    "    return games"
   ]
  },
  {
   "cell_type": "code",
   "execution_count": 64,
   "metadata": {},
   "outputs": [
    {
     "name": "stdout",
     "output_type": "stream",
     "text": [
      "1 ✅ 2 ✅ 3 ✅ 5 ✅ 7 ✅ 9 ✅ 14 ✅ 20 ✅ 22 ✅ 25 ✅ 26 ✅ 28 ✅ 29 ✅ 31 ✅ 32 ✅ 35 ✅ 36 ✅ 41 ✅ 42 ✅ 47 ✅ 48 ✅ 49 ✅ 50 ✅ 51 ✅ 52 ✅ 56 ✅ 57 ✅ 61 ✅ 64 ✅ 65 ✅ 66 ✅ 67 ✅ 71 ✅ 73 ✅ 74 ✅ 76 ✅ 77 ✅ 78 ✅ 79 ✅ 81 ✅ 84 ✅ 86 ✅ 87 ✅ 91 ✅ 93 ✅ 94 ✅ 95 ✅ 96 ✅ 97 ✅ 98 ✅ 100 ✅ \n",
      "Silver: 2771\n"
     ]
    }
   ],
   "source": [
    "# Silver\n",
    "# Determine which games would have been possible if the bag had been \n",
    "# loaded with only 12 red cubes, 13 green cubes, and 14 blue cubes.\n",
    "\n",
    "def throws_possible(throws: list[Throw]) -> bool:\n",
    "    max_red = 12\n",
    "    max_green = 13\n",
    "    max_blue = 14\n",
    "\n",
    "    for throw in throws:\n",
    "        if  throw.red > max_red or throw.green > max_green or throw.blue > max_blue:\n",
    "            return False\n",
    "    \n",
    "    return True\n",
    "\n",
    "\n",
    "games = parse(\"mission.txt\")\n",
    "\n",
    "silver = 0\n",
    "for i, game in enumerate(games):\n",
    "    if throws_possible(game.throws):\n",
    "        print(f\"{i+1} ✅\", end=\" \")\n",
    "        silver += i+1\n",
    "\n",
    "print(f\"\\nSilver: {silver}\")"
   ]
  },
  {
   "cell_type": "code",
   "execution_count": 70,
   "metadata": {},
   "outputs": [
    {
     "name": "stdout",
     "output_type": "stream",
     "text": [
      "Gold: 70924\n"
     ]
    }
   ],
   "source": [
    "# Gold\n",
    "# Determine which the minimum number of cubes that would have to be added\n",
    "# to the bag to make each game possible.\n",
    "\n",
    "def minimum_cubes(throws: list[Throw]) -> bool:\n",
    "    min_red = 0\n",
    "    min_green = 0\n",
    "    min_blue = 0\n",
    "\n",
    "    for throw in throws:\n",
    "        if throw.red > min_red:\n",
    "            min_red = throw.red\n",
    "        if throw.green > min_green:\n",
    "            min_green = throw.green\n",
    "        if throw.blue > min_blue:\n",
    "            min_blue = throw.blue\n",
    "\n",
    "    return min_red * min_green * min_blue\n",
    "\n",
    "games = parse(\"mission.txt\")\n",
    "\n",
    "gold = 0\n",
    "for i, game in enumerate(games):\n",
    "    gold += minimum_cubes(game.throws)\n",
    "\n",
    "print(f\"Gold: {gold}\")"
   ]
  }
 ],
 "metadata": {
  "kernelspec": {
   "display_name": "Python 3",
   "language": "python",
   "name": "python3"
  },
  "language_info": {
   "codemirror_mode": {
    "name": "ipython",
    "version": 3
   },
   "file_extension": ".py",
   "mimetype": "text/x-python",
   "name": "python",
   "nbconvert_exporter": "python",
   "pygments_lexer": "ipython3",
   "version": "3.10.13"
  }
 },
 "nbformat": 4,
 "nbformat_minor": 2
}
