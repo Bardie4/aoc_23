{
 "cells": [
  {
   "cell_type": "code",
   "execution_count": 12,
   "metadata": {},
   "outputs": [
    {
     "data": {
      "text/plain": [
       "32001"
      ]
     },
     "execution_count": 12,
     "metadata": {},
     "output_type": "execute_result"
    }
   ],
   "source": [
    "# Silver\n",
    "with open('mission.txt') as f:\n",
    "    lines = f.read().splitlines()\n",
    "\n",
    "# line looks like this: Card x: 10 11 12 13 14 | 22 24 27 29 40\n",
    "points = 0\n",
    "for line in lines:\n",
    "    # parse numbers before |\n",
    "    card, nums = line.split(':')\n",
    "    nums = nums.split('|')[0].strip().replace(\"  \", \" \").split(' ')\n",
    "    nums = [int(n) for n in nums]\n",
    "    # parse numbers after |\n",
    "    nums2 = line.split('|')[1].strip().replace(\"  \", \" \").split(' ')\n",
    "    nums2 = [int(n) for n in nums2]\n",
    "    # check if there are any numbers in common\n",
    "    common = [n for n in nums if n in nums2]\n",
    "\n",
    "    _points = 0\n",
    "    for _ in common:\n",
    "        if _points == 0:\n",
    "            _points = 1\n",
    "        else:\n",
    "            _points *= 2\n",
    "\n",
    "    points += _points\n",
    "\n",
    "points\n"
   ]
  },
  {
   "cell_type": "code",
   "execution_count": null,
   "metadata": {},
   "outputs": [],
   "source": [
    "# Gold\n",
    "with open('ex.txt') as f:\n",
    "    lines = f.read().splitlines()\n",
    "\n",
    "# line looks like this: Card x: 10 11 12 13 14 | 22 24 27 29 40\n",
    "cards = 0\n",
    "for line in lines:\n",
    "    # parse numbers before |\n",
    "    card, nums = line.split(':')\n",
    "    nums = nums.split('|')[0].strip().replace(\"  \", \" \").split(' ')\n",
    "    nums = [int(n) for n in nums]\n",
    "    # parse numbers after |\n",
    "    nums2 = line.split('|')[1].strip().replace(\"  \", \" \").split(' ')\n",
    "    nums2 = [int(n) for n in nums2]\n",
    "    # check if there are any numbers in common\n",
    "    common = [n for n in nums if n in nums2]\n",
    "\n",
    "    _points = 0\n",
    "    for _ in common:\n",
    "        if _points == 0:\n",
    "            _points = 1\n",
    "        else:\n",
    "            _points *= 2\n",
    "\n",
    "    points += _points"
   ]
  }
 ],
 "metadata": {
  "kernelspec": {
   "display_name": "Python 3",
   "language": "python",
   "name": "python3"
  },
  "language_info": {
   "codemirror_mode": {
    "name": "ipython",
    "version": 3
   },
   "file_extension": ".py",
   "mimetype": "text/x-python",
   "name": "python",
   "nbconvert_exporter": "python",
   "pygments_lexer": "ipython3",
   "version": "3.10.13"
  }
 },
 "nbformat": 4,
 "nbformat_minor": 2
}
